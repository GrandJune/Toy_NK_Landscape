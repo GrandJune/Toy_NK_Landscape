{
 "cells": [
  {
   "cell_type": "code",
   "execution_count": 127,
   "id": "52ad41d2",
   "metadata": {},
   "outputs": [],
   "source": [
    "import numpy as np\n",
    "import matplotlib.pyplot as plt\n",
    "from itertools import product\n",
    "import time"
   ]
  },
  {
   "cell_type": "code",
   "execution_count": 167,
   "id": "2a8b93ac",
   "metadata": {},
   "outputs": [],
   "source": [
    "class LandScape():\n",
    "\n",
    "    def __init__(self, N, K, K_within, K_between, state_num=2):\n",
    "        self.N = N\n",
    "        self.K = K\n",
    "        self.K_within = K_within\n",
    "        self.K_between = K_between\n",
    "        \n",
    "        self.IM_np = None\n",
    "        self.state_num = state_num\n",
    "        self.FC_np = None\n",
    "        self.cache_np = [] # (1*2^N), using int(str) as the index\n",
    "        self.cog_cache_np = [0] * (2**self.N)\n",
    "\n",
    "    def create_influence_matrix(self):\n",
    "        IM = np.eye(self.N)\n",
    "        if self.K_within is None:\n",
    "            for i in range(self.N):\n",
    "                probs = [1 / (self.N - 1)] * i + [0] + [1 / (self.N - 1)] * (self.N - 1 - i)\n",
    "                ids = np.random.choice(self.N, self.K, p=probs, replace=False)\n",
    "                for index in ids:\n",
    "                    IM[i][index] = 1\n",
    "        else:\n",
    "            for i in range(self.N):\n",
    "                if i // (self.N // 2) < 1:\n",
    "                    within = [j for j in range(self.N // 2)]\n",
    "                    between = [j for j in range(self.N // 2, self.N)]\n",
    "                    probs = [1 / (self.N // 2 - 1)] * i + [0] + [1 / (self.N // 2 - 1)] * (self.N // 2 - 1 - i)\n",
    "                    ids_within = np.random.choice(within, self.K_within, p=probs, replace=False)\n",
    "                    ids_between = np.random.choice(between, self.K_between, replace=False)\n",
    "                    for index in ids_within:\n",
    "                        IM[i][index] = 1\n",
    "                    for index in ids_between:\n",
    "                        IM[i][index] = 1\n",
    "\n",
    "                else:\n",
    "                    within = [j for j in range(self.N // 2, self.N)]\n",
    "                    between = [j for j in range(self.N // 2)]\n",
    "                    probs = [1 / (self.N // 2 - 1)] * (i - self.N // 2) + [0] + [1 / (self.N // 2 - 1)] * (\n",
    "                                self.N - 1 - i)\n",
    "                    ids_between = np.random.choice(between, self.K_between, replace=False)\n",
    "                    ids_within = np.random.choice(within, self.K_within, p=probs, replace=False)\n",
    "                    for index in ids_within:\n",
    "                        IM[i][index] = 1\n",
    "                    for index in ids_between:\n",
    "                        IM[i][index] = 1\n",
    "        self.IM_np = np.array(IM)\n",
    "    \n",
    "    def create_fitness_config_np(self,):\n",
    "        self.FC_np = np.random.random((self.N, pow(self.state_num, self.K+1))) # (N by 2^(K+1))\n",
    "    \n",
    "    def calculate_fitness_np(self, state):\n",
    "#         state = np.array(state)\n",
    "        state = np.tile(state, (self.N, 1))\n",
    "        index_matrix = state[self.IM_np.astype(\"bool\")].reshape(self.N, -1)\n",
    "        index_matrix = index_matrix.dot(self.state_num ** np.arange(index_matrix.shape[1])[::-1])\n",
    "        res = np.average(self.FC_np[np.arange(self.N), index_matrix])\n",
    "        return res\n",
    "    \n",
    "    def store_cache_np(self,):\n",
    "#         self.cache_np = [self.calculate_fitness_np(each_state) for each_state in product(range(self.state_num), repeat=self.N)]\n",
    "        all_states = [i for i in product(range(self.state_num), repeat=self.N)]\n",
    "        for each_state in all_states:\n",
    "            self.cache_np.append(self.calculate_fitness_np(each_state))\n",
    "    \n",
    "    def initialize_np(self, first_time=True, norm=True):\n",
    "        if first_time:\n",
    "            self.create_influence_matrix()\n",
    "        self.create_fitness_config_np()\n",
    "        self.store_cache_np()\n",
    "        if norm:\n",
    "            max_ = max(self.cache_np)\n",
    "            min_ = min(self.cache_np)\n",
    "            self.cache_np = [(i-min_)/(max_-min_) for i in self.cache_np]\n",
    "        self.cog_cache_np = {}\n",
    "    \n",
    "    def query_fitness_np(self, state):\n",
    "#         state = np.array(state)\n",
    "        state_index = state.dot(2 ** np.arange(state.size)[::-1])\n",
    "        return self.cache_np[state_index]"
   ]
  },
  {
   "cell_type": "code",
   "execution_count": 168,
   "id": "15a9412f",
   "metadata": {},
   "outputs": [],
   "source": [
    "class Agent:\n",
    "    \n",
    "    def __init__(self, N, landscape):\n",
    "        self.N = N\n",
    "        self.state = np.random.choice([0, 1], self.N)\n",
    "        self.landscape = landscape\n",
    "        self.fitness_np = self.landscape.query_fitness_np(self.state)\n",
    "        self.temp_state = None\n",
    "    \n",
    "    def adaptation_np(self, ):\n",
    "        self.temp_state = self.state.copy() # 显式复制\n",
    "        choice = np.random.choice(self.N)\n",
    "        self.temp_state[choice]^= 1\n",
    "        if self.landscape.query_fitness_np(self.state) < self.landscape.query_fitness_np(self.temp_state):\n",
    "            self.state = self.temp_state.copy()\n",
    "            self.fitness_np = self.landscape.query_fitness_np(self.temp_state)\n"
   ]
  },
  {
   "cell_type": "code",
   "execution_count": 171,
   "id": "117940fe",
   "metadata": {},
   "outputs": [
    {
     "name": "stdout",
     "output_type": "stream",
     "text": [
      "Average Running Time:  1.7718281269073486\n"
     ]
    }
   ],
   "source": [
    "np.random.seed(100)\n",
    "gap_list = []\n",
    "for i in range(5):\n",
    "    start_time = time.time()\n",
    "    N = 8\n",
    "    ress = []\n",
    "    for k in [0, 2, 4, 6]:\n",
    "        res = []\n",
    "        landscape = LandScape(N, k, None, None)\n",
    "        landscape.initialize_np()\n",
    "        for repeat in range(200):\n",
    "            fitness = []\n",
    "            agent = Agent(N, landscape)\n",
    "            for step in range(100):\n",
    "                agent.adaptation_np()\n",
    "                fitness.append(agent.fitness_np)\n",
    "            res.append(fitness)\n",
    "        ress.append(res)\n",
    "    end_time = time.time()\n",
    "    gap = end_time - start_time\n",
    "    gap_list.append(gap)\n",
    "\n",
    "\n",
    "print(\"Average Running Time: \",sum(gap_list)/len(gap_list) )"
   ]
  },
  {
   "cell_type": "code",
   "execution_count": 172,
   "id": "b3554025",
   "metadata": {},
   "outputs": [
    {
     "data": {
      "text/plain": [
       "<matplotlib.legend.Legend at 0x2362c8332b0>"
      ]
     },
     "execution_count": 172,
     "metadata": {},
     "output_type": "execute_result"
    },
    {
     "data": {
      "image/png": "[encoded data removed]",
      "text/plain": [
       "<Figure size 432x288 with 1 Axes>"
      ]
     },
     "metadata": {
      "needs_background": "light"
     },
     "output_type": "display_data"
    }
   ],
   "source": [
    "for k in range(4):\n",
    "    plt.plot(np.mean(np.array(ress[k]),axis=0), label=\"k=%d\"%(k*2))\n",
    "plt.legend()"
   ]
  },
  {
   "cell_type": "code",
   "execution_count": null,
   "id": "1493ee02",
   "metadata": {},
   "outputs": [],
   "source": []
  },
  {
   "cell_type": "code",
   "execution_count": null,
   "id": "79d828eb",
   "metadata": {},
   "outputs": [],
   "source": []
  }
 ],
 "metadata": {
  "kernelspec": {
   "display_name": "Python 3",
   "language": "python",
   "name": "python3"
  },
  "language_info": {
   "codemirror_mode": {
    "name": "ipython",
    "version": 3
   },
   "file_extension": ".py",
   "mimetype": "text/x-python",
   "name": "python",
   "nbconvert_exporter": "python",
   "pygments_lexer": "ipython3",
   "version": "3.8.8"
  }
 },
 "nbformat": 4,
 "nbformat_minor": 5
}
