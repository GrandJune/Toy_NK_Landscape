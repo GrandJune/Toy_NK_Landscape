{
 "cells": [
  {
   "cell_type": "code",
   "execution_count": 2,
   "id": "92a1640f",
   "metadata": {},
   "outputs": [],
   "source": [
    "import numpy as np\n",
    "from collections import defaultdict\n",
    "import matplotlib.pyplot as plt\n",
    "import time"
   ]
  },
  {
   "cell_type": "code",
   "execution_count": 3,
   "id": "489267d8",
   "metadata": {},
   "outputs": [],
   "source": [
    "class LandScape():\n",
    "\n",
    "    def __init__(self, N, K, K_within, K_between):\n",
    "        self.N = N\n",
    "        self.K = K\n",
    "        self.K_within = K_within\n",
    "        self.K_between = K_between\n",
    "        self.IM, self.IM_dic = None, None\n",
    "        self.FC = None\n",
    "        self.cache = {}  # 字典的索引效率要高于数组的索引，所以要用这个\n",
    "        self.cog_cache = {}\n",
    "\n",
    "    def create_influence_matrix(self):\n",
    "        IM = np.eye(self.N)\n",
    "        if self.K_within is None:\n",
    "            for i in range(self.N):\n",
    "                probs = [1 / (self.N - 1)] * i + [0] + [1 / (self.N - 1)] * (self.N - 1 - i)\n",
    "                ids = np.random.choice(self.N, self.K, p=probs, replace=False)\n",
    "                for index in ids:\n",
    "                    IM[i][index] = 1\n",
    "        else:\n",
    "            for i in range(self.N):\n",
    "                if i // (self.N // 2) < 1:\n",
    "                    within = [j for j in range(self.N // 2)]\n",
    "                    between = [j for j in range(self.N // 2, self.N)]\n",
    "                    probs = [1 / (self.N // 2 - 1)] * i + [0] + [1 / (self.N // 2 - 1)] * (self.N // 2 - 1 - i)\n",
    "                    ids_within = np.random.choice(within, self.K_within, p=probs, replace=False)\n",
    "                    ids_between = np.random.choice(between, self.K_between, replace=False)\n",
    "                    for index in ids_within:\n",
    "                        IM[i][index] = 1\n",
    "                    for index in ids_between:\n",
    "                        IM[i][index] = 1\n",
    "\n",
    "                else:\n",
    "                    within = [j for j in range(self.N // 2, self.N)]\n",
    "                    between = [j for j in range(self.N // 2)]\n",
    "                    probs = [1 / (self.N // 2 - 1)] * (i - self.N // 2) + [0] + [1 / (self.N // 2 - 1)] * (\n",
    "                                self.N - 1 - i)\n",
    "                    ids_between = np.random.choice(between, self.K_between, replace=False)\n",
    "                    ids_within = np.random.choice(within, self.K_within, p=probs, replace=False)\n",
    "                    for index in ids_within:\n",
    "                        IM[i][index] = 1\n",
    "                    for index in ids_between:\n",
    "                        IM[i][index] = 1\n",
    "\n",
    "        IM_dic = defaultdict(list)\n",
    "        for i in range(len(IM)):\n",
    "            for j in range(len(IM[0])):\n",
    "                if i == j or IM[i][j] == 0:\n",
    "                    continue\n",
    "                else:\n",
    "                    IM_dic[i].append(j)\n",
    "        self.IM, self.IM_dic = IM, IM_dic\n",
    "\n",
    "    def create_fitness_config(self,):\n",
    "        FC = defaultdict(dict)\n",
    "        for row in range(len(self.IM)):\n",
    "\n",
    "            k = int(sum(self.IM[row]))\n",
    "            for i in range(pow(2, k)):\n",
    "                FC[row][i] = np.random.uniform(0, 1)\n",
    "        self.FC = FC\n",
    "\n",
    "\n",
    "    def calculate_fitness(self, state):\n",
    "        res = 0.0\n",
    "        for i in range(len(state)):\n",
    "            dependency = self.IM_dic[i]\n",
    "            bin_index = \"\".join([str(state[j]) for j in dependency])\n",
    "            if state[i] == 0:\n",
    "                bin_index = \"0\" + bin_index\n",
    "            else:\n",
    "                bin_index = \"1\" + bin_index\n",
    "            index = int(bin_index, 2)\n",
    "            res += self.FC[i][index]\n",
    "        return res / len(state)\n",
    "\n",
    "    def store_cache(self,):\n",
    "        for i in range(pow(2,self.N)):\n",
    "            bit = bin(i)[2:]\n",
    "            if len(bit)<self.N:\n",
    "                bit = \"0\"*(self.N-len(bit))+bit\n",
    "            state = [int(cur) for cur in bit]\n",
    "            self.cache[bit] = self.calculate_fitness(state)\n",
    "\n",
    "\n",
    "    def initialize(self, first_time=True, norm=True):\n",
    "        if first_time:\n",
    "            self.create_influence_matrix()\n",
    "        self.create_fitness_config()\n",
    "        self.store_cache()\n",
    "\n",
    "        # normalization\n",
    "        if norm:\n",
    "            normalizor = max(self.cache.values())\n",
    "            min_normalizor = min(self.cache.values())\n",
    "\n",
    "            for k in self.cache.keys():\n",
    "                self.cache[k] = (self.cache[k]-min_normalizor)/(normalizor-min_normalizor)\n",
    "        self.cog_cache = {}\n",
    "\n",
    "    def query_fitness(self, state):\n",
    "        bit = \"\".join([str(state[i]) for i in range(len(state))])\n",
    "        return self.cache[bit]\n",
    "\n",
    "    def query_cog_fitness(self, state, knowledge_sapce):\n",
    "        remainder = [cur for cur in range(self.N) if cur not in knowledge_sapce]\n",
    "        regular_expression = \"\".join(str(state[i]) if i in knowledge_sapce else \"*\" for i in range(len(state)))\n",
    "        if regular_expression in self.cog_cache:\n",
    "            return self.cog_cache[regular_expression]\n",
    "\n",
    "        remain_length = len(remainder)\n",
    "        res = 0\n",
    "        for i in range(pow(2, remain_length)):\n",
    "            bit = bin(i)[2:]\n",
    "            if len(bit)<remain_length:\n",
    "                bit = \"0\"*(remain_length-len(bit))+bit\n",
    "            temp_state = list(state)\n",
    "\n",
    "            for j in range(remain_length):\n",
    "                temp_state[remainder[j]] = int(bit[j])\n",
    "            res+=self.query_fitness(temp_state)\n",
    "        res = 1.0*res/pow(2, remain_length)\n",
    "        self.cog_cache[regular_expression] = res\n",
    "\n",
    "        return res\n"
   ]
  },
  {
   "cell_type": "code",
   "execution_count": 4,
   "id": "50c73986",
   "metadata": {},
   "outputs": [],
   "source": [
    "class Agent:\n",
    "    \n",
    "    def __init__(self, N, landscape):\n",
    "        self.N = N\n",
    "        self.state = np.random.choice([0, 1], self.N).tolist()\n",
    "        self.landscape = landscape\n",
    "        self.fitness = self.landscape.query_fitness(self.state)\n",
    "        \n",
    "    def search(self, ):\n",
    "        next_state = list(self.state)\n",
    "        next_index = np.random.choice(self.N)\n",
    "        next_state[next_index] ^= 1\n",
    "        \n",
    "        if self.landscape.query_fitness(self.state) < self.landscape.query_fitness(next_state):\n",
    "            self.state = next_state\n",
    "            self.fitness = self.landscape.query_fitness(next_state)"
   ]
  },
  {
   "cell_type": "code",
   "execution_count": 5,
   "id": "594aaaf6",
   "metadata": {},
   "outputs": [
    {
     "ename": "PermissionError",
     "evalue": "[Errno 13] Permission denied: '\\\\Performance_across_K.png'",
     "output_type": "error",
     "traceback": [
      "\u001B[1;31m---------------------------------------------------------------------------\u001B[0m",
      "\u001B[1;31mPermissionError\u001B[0m                           Traceback (most recent call last)",
      "\u001B[1;32m<ipython-input-5-3e99ff4bdbeb>\u001B[0m in \u001B[0;36m<module>\u001B[1;34m\u001B[0m\n\u001B[0;32m     39\u001B[0m \u001B[1;31m# plt.xticks(x)\u001B[0m\u001B[1;33m\u001B[0m\u001B[1;33m\u001B[0m\u001B[1;33m\u001B[0m\u001B[0m\n\u001B[0;32m     40\u001B[0m \u001B[0mplt\u001B[0m\u001B[1;33m.\u001B[0m\u001B[0mlegend\u001B[0m\u001B[1;33m(\u001B[0m\u001B[1;33m)\u001B[0m\u001B[1;33m\u001B[0m\u001B[1;33m\u001B[0m\u001B[0m\n\u001B[1;32m---> 41\u001B[1;33m \u001B[0mplt\u001B[0m\u001B[1;33m.\u001B[0m\u001B[0msavefig\u001B[0m\u001B[1;33m(\u001B[0m\u001B[1;34m\"\\Performance_across_K.png\"\u001B[0m\u001B[1;33m,\u001B[0m \u001B[0mtransparent\u001B[0m\u001B[1;33m=\u001B[0m\u001B[1;32mFalse\u001B[0m\u001B[1;33m,\u001B[0m \u001B[0mdpi\u001B[0m\u001B[1;33m=\u001B[0m\u001B[1;36m200\u001B[0m\u001B[1;33m)\u001B[0m\u001B[1;33m\u001B[0m\u001B[1;33m\u001B[0m\u001B[0m\n\u001B[0m\u001B[0;32m     42\u001B[0m \u001B[0mt1\u001B[0m \u001B[1;33m=\u001B[0m \u001B[0mtime\u001B[0m\u001B[1;33m.\u001B[0m\u001B[0mtime\u001B[0m\u001B[1;33m(\u001B[0m\u001B[1;33m)\u001B[0m\u001B[1;33m\u001B[0m\u001B[1;33m\u001B[0m\u001B[0m\n\u001B[0;32m     43\u001B[0m \u001B[0mprint\u001B[0m\u001B[1;33m(\u001B[0m\u001B[0mtime\u001B[0m\u001B[1;33m.\u001B[0m\u001B[0mstrftime\u001B[0m\u001B[1;33m(\u001B[0m\u001B[1;34m\"%H:%M:%S\"\u001B[0m\u001B[1;33m,\u001B[0m \u001B[0mtime\u001B[0m\u001B[1;33m.\u001B[0m\u001B[0mgmtime\u001B[0m\u001B[1;33m(\u001B[0m\u001B[0mt1\u001B[0m\u001B[1;33m-\u001B[0m\u001B[0mt0\u001B[0m\u001B[1;33m)\u001B[0m\u001B[1;33m)\u001B[0m\u001B[1;33m)\u001B[0m\u001B[1;33m\u001B[0m\u001B[1;33m\u001B[0m\u001B[0m\n",
      "\u001B[1;32mC:\\Anaconda3\\lib\\site-packages\\matplotlib\\pyplot.py\u001B[0m in \u001B[0;36msavefig\u001B[1;34m(*args, **kwargs)\u001B[0m\n\u001B[0;32m    857\u001B[0m \u001B[1;32mdef\u001B[0m \u001B[0msavefig\u001B[0m\u001B[1;33m(\u001B[0m\u001B[1;33m*\u001B[0m\u001B[0margs\u001B[0m\u001B[1;33m,\u001B[0m \u001B[1;33m**\u001B[0m\u001B[0mkwargs\u001B[0m\u001B[1;33m)\u001B[0m\u001B[1;33m:\u001B[0m\u001B[1;33m\u001B[0m\u001B[1;33m\u001B[0m\u001B[0m\n\u001B[0;32m    858\u001B[0m     \u001B[0mfig\u001B[0m \u001B[1;33m=\u001B[0m \u001B[0mgcf\u001B[0m\u001B[1;33m(\u001B[0m\u001B[1;33m)\u001B[0m\u001B[1;33m\u001B[0m\u001B[1;33m\u001B[0m\u001B[0m\n\u001B[1;32m--> 859\u001B[1;33m     \u001B[0mres\u001B[0m \u001B[1;33m=\u001B[0m \u001B[0mfig\u001B[0m\u001B[1;33m.\u001B[0m\u001B[0msavefig\u001B[0m\u001B[1;33m(\u001B[0m\u001B[1;33m*\u001B[0m\u001B[0margs\u001B[0m\u001B[1;33m,\u001B[0m \u001B[1;33m**\u001B[0m\u001B[0mkwargs\u001B[0m\u001B[1;33m)\u001B[0m\u001B[1;33m\u001B[0m\u001B[1;33m\u001B[0m\u001B[0m\n\u001B[0m\u001B[0;32m    860\u001B[0m     \u001B[0mfig\u001B[0m\u001B[1;33m.\u001B[0m\u001B[0mcanvas\u001B[0m\u001B[1;33m.\u001B[0m\u001B[0mdraw_idle\u001B[0m\u001B[1;33m(\u001B[0m\u001B[1;33m)\u001B[0m   \u001B[1;31m# need this if 'transparent=True' to reset colors\u001B[0m\u001B[1;33m\u001B[0m\u001B[1;33m\u001B[0m\u001B[0m\n\u001B[0;32m    861\u001B[0m     \u001B[1;32mreturn\u001B[0m \u001B[0mres\u001B[0m\u001B[1;33m\u001B[0m\u001B[1;33m\u001B[0m\u001B[0m\n",
      "\u001B[1;32mC:\\Anaconda3\\lib\\site-packages\\matplotlib\\figure.py\u001B[0m in \u001B[0;36msavefig\u001B[1;34m(self, fname, transparent, **kwargs)\u001B[0m\n\u001B[0;32m   2309\u001B[0m                 \u001B[0mpatch\u001B[0m\u001B[1;33m.\u001B[0m\u001B[0mset_edgecolor\u001B[0m\u001B[1;33m(\u001B[0m\u001B[1;34m'none'\u001B[0m\u001B[1;33m)\u001B[0m\u001B[1;33m\u001B[0m\u001B[1;33m\u001B[0m\u001B[0m\n\u001B[0;32m   2310\u001B[0m \u001B[1;33m\u001B[0m\u001B[0m\n\u001B[1;32m-> 2311\u001B[1;33m         \u001B[0mself\u001B[0m\u001B[1;33m.\u001B[0m\u001B[0mcanvas\u001B[0m\u001B[1;33m.\u001B[0m\u001B[0mprint_figure\u001B[0m\u001B[1;33m(\u001B[0m\u001B[0mfname\u001B[0m\u001B[1;33m,\u001B[0m \u001B[1;33m**\u001B[0m\u001B[0mkwargs\u001B[0m\u001B[1;33m)\u001B[0m\u001B[1;33m\u001B[0m\u001B[1;33m\u001B[0m\u001B[0m\n\u001B[0m\u001B[0;32m   2312\u001B[0m \u001B[1;33m\u001B[0m\u001B[0m\n\u001B[0;32m   2313\u001B[0m         \u001B[1;32mif\u001B[0m \u001B[0mtransparent\u001B[0m\u001B[1;33m:\u001B[0m\u001B[1;33m\u001B[0m\u001B[1;33m\u001B[0m\u001B[0m\n",
      "\u001B[1;32mC:\\Anaconda3\\lib\\site-packages\\matplotlib\\backend_bases.py\u001B[0m in \u001B[0;36mprint_figure\u001B[1;34m(self, filename, dpi, facecolor, edgecolor, orientation, format, bbox_inches, pad_inches, bbox_extra_artists, backend, **kwargs)\u001B[0m\n\u001B[0;32m   2208\u001B[0m \u001B[1;33m\u001B[0m\u001B[0m\n\u001B[0;32m   2209\u001B[0m             \u001B[1;32mtry\u001B[0m\u001B[1;33m:\u001B[0m\u001B[1;33m\u001B[0m\u001B[1;33m\u001B[0m\u001B[0m\n\u001B[1;32m-> 2210\u001B[1;33m                 result = print_method(\n\u001B[0m\u001B[0;32m   2211\u001B[0m                     \u001B[0mfilename\u001B[0m\u001B[1;33m,\u001B[0m\u001B[1;33m\u001B[0m\u001B[1;33m\u001B[0m\u001B[0m\n\u001B[0;32m   2212\u001B[0m                     \u001B[0mdpi\u001B[0m\u001B[1;33m=\u001B[0m\u001B[0mdpi\u001B[0m\u001B[1;33m,\u001B[0m\u001B[1;33m\u001B[0m\u001B[1;33m\u001B[0m\u001B[0m\n",
      "\u001B[1;32mC:\\Anaconda3\\lib\\site-packages\\matplotlib\\backend_bases.py\u001B[0m in \u001B[0;36mwrapper\u001B[1;34m(*args, **kwargs)\u001B[0m\n\u001B[0;32m   1637\u001B[0m             \u001B[0mkwargs\u001B[0m\u001B[1;33m.\u001B[0m\u001B[0mpop\u001B[0m\u001B[1;33m(\u001B[0m\u001B[0marg\u001B[0m\u001B[1;33m)\u001B[0m\u001B[1;33m\u001B[0m\u001B[1;33m\u001B[0m\u001B[0m\n\u001B[0;32m   1638\u001B[0m \u001B[1;33m\u001B[0m\u001B[0m\n\u001B[1;32m-> 1639\u001B[1;33m         \u001B[1;32mreturn\u001B[0m \u001B[0mfunc\u001B[0m\u001B[1;33m(\u001B[0m\u001B[1;33m*\u001B[0m\u001B[0margs\u001B[0m\u001B[1;33m,\u001B[0m \u001B[1;33m**\u001B[0m\u001B[0mkwargs\u001B[0m\u001B[1;33m)\u001B[0m\u001B[1;33m\u001B[0m\u001B[1;33m\u001B[0m\u001B[0m\n\u001B[0m\u001B[0;32m   1640\u001B[0m \u001B[1;33m\u001B[0m\u001B[0m\n\u001B[0;32m   1641\u001B[0m     \u001B[1;32mreturn\u001B[0m \u001B[0mwrapper\u001B[0m\u001B[1;33m\u001B[0m\u001B[1;33m\u001B[0m\u001B[0m\n",
      "\u001B[1;32mC:\\Anaconda3\\lib\\site-packages\\matplotlib\\backends\\backend_agg.py\u001B[0m in \u001B[0;36mprint_png\u001B[1;34m(self, filename_or_obj, metadata, pil_kwargs, *args)\u001B[0m\n\u001B[0;32m    508\u001B[0m         \"\"\"\n\u001B[0;32m    509\u001B[0m         \u001B[0mFigureCanvasAgg\u001B[0m\u001B[1;33m.\u001B[0m\u001B[0mdraw\u001B[0m\u001B[1;33m(\u001B[0m\u001B[0mself\u001B[0m\u001B[1;33m)\u001B[0m\u001B[1;33m\u001B[0m\u001B[1;33m\u001B[0m\u001B[0m\n\u001B[1;32m--> 510\u001B[1;33m         mpl.image.imsave(\n\u001B[0m\u001B[0;32m    511\u001B[0m             \u001B[0mfilename_or_obj\u001B[0m\u001B[1;33m,\u001B[0m \u001B[0mself\u001B[0m\u001B[1;33m.\u001B[0m\u001B[0mbuffer_rgba\u001B[0m\u001B[1;33m(\u001B[0m\u001B[1;33m)\u001B[0m\u001B[1;33m,\u001B[0m \u001B[0mformat\u001B[0m\u001B[1;33m=\u001B[0m\u001B[1;34m\"png\"\u001B[0m\u001B[1;33m,\u001B[0m \u001B[0morigin\u001B[0m\u001B[1;33m=\u001B[0m\u001B[1;34m\"upper\"\u001B[0m\u001B[1;33m,\u001B[0m\u001B[1;33m\u001B[0m\u001B[1;33m\u001B[0m\u001B[0m\n\u001B[0;32m    512\u001B[0m             dpi=self.figure.dpi, metadata=metadata, pil_kwargs=pil_kwargs)\n",
      "\u001B[1;32mC:\\Anaconda3\\lib\\site-packages\\matplotlib\\image.py\u001B[0m in \u001B[0;36mimsave\u001B[1;34m(fname, arr, vmin, vmax, cmap, format, origin, dpi, metadata, pil_kwargs)\u001B[0m\n\u001B[0;32m   1609\u001B[0m         \u001B[0mpil_kwargs\u001B[0m\u001B[1;33m.\u001B[0m\u001B[0msetdefault\u001B[0m\u001B[1;33m(\u001B[0m\u001B[1;34m\"format\"\u001B[0m\u001B[1;33m,\u001B[0m \u001B[0mformat\u001B[0m\u001B[1;33m)\u001B[0m\u001B[1;33m\u001B[0m\u001B[1;33m\u001B[0m\u001B[0m\n\u001B[0;32m   1610\u001B[0m         \u001B[0mpil_kwargs\u001B[0m\u001B[1;33m.\u001B[0m\u001B[0msetdefault\u001B[0m\u001B[1;33m(\u001B[0m\u001B[1;34m\"dpi\"\u001B[0m\u001B[1;33m,\u001B[0m \u001B[1;33m(\u001B[0m\u001B[0mdpi\u001B[0m\u001B[1;33m,\u001B[0m \u001B[0mdpi\u001B[0m\u001B[1;33m)\u001B[0m\u001B[1;33m)\u001B[0m\u001B[1;33m\u001B[0m\u001B[1;33m\u001B[0m\u001B[0m\n\u001B[1;32m-> 1611\u001B[1;33m         \u001B[0mimage\u001B[0m\u001B[1;33m.\u001B[0m\u001B[0msave\u001B[0m\u001B[1;33m(\u001B[0m\u001B[0mfname\u001B[0m\u001B[1;33m,\u001B[0m \u001B[1;33m**\u001B[0m\u001B[0mpil_kwargs\u001B[0m\u001B[1;33m)\u001B[0m\u001B[1;33m\u001B[0m\u001B[1;33m\u001B[0m\u001B[0m\n\u001B[0m\u001B[0;32m   1612\u001B[0m \u001B[1;33m\u001B[0m\u001B[0m\n\u001B[0;32m   1613\u001B[0m \u001B[1;33m\u001B[0m\u001B[0m\n",
      "\u001B[1;32mC:\\Anaconda3\\lib\\site-packages\\PIL\\Image.py\u001B[0m in \u001B[0;36msave\u001B[1;34m(self, fp, format, **params)\u001B[0m\n\u001B[0;32m   2167\u001B[0m                 \u001B[0mfp\u001B[0m \u001B[1;33m=\u001B[0m \u001B[0mbuiltins\u001B[0m\u001B[1;33m.\u001B[0m\u001B[0mopen\u001B[0m\u001B[1;33m(\u001B[0m\u001B[0mfilename\u001B[0m\u001B[1;33m,\u001B[0m \u001B[1;34m\"r+b\"\u001B[0m\u001B[1;33m)\u001B[0m\u001B[1;33m\u001B[0m\u001B[1;33m\u001B[0m\u001B[0m\n\u001B[0;32m   2168\u001B[0m             \u001B[1;32melse\u001B[0m\u001B[1;33m:\u001B[0m\u001B[1;33m\u001B[0m\u001B[1;33m\u001B[0m\u001B[0m\n\u001B[1;32m-> 2169\u001B[1;33m                 \u001B[0mfp\u001B[0m \u001B[1;33m=\u001B[0m \u001B[0mbuiltins\u001B[0m\u001B[1;33m.\u001B[0m\u001B[0mopen\u001B[0m\u001B[1;33m(\u001B[0m\u001B[0mfilename\u001B[0m\u001B[1;33m,\u001B[0m \u001B[1;34m\"w+b\"\u001B[0m\u001B[1;33m)\u001B[0m\u001B[1;33m\u001B[0m\u001B[1;33m\u001B[0m\u001B[0m\n\u001B[0m\u001B[0;32m   2170\u001B[0m \u001B[1;33m\u001B[0m\u001B[0m\n\u001B[0;32m   2171\u001B[0m         \u001B[1;32mtry\u001B[0m\u001B[1;33m:\u001B[0m\u001B[1;33m\u001B[0m\u001B[1;33m\u001B[0m\u001B[0m\n",
      "\u001B[1;31mPermissionError\u001B[0m: [Errno 13] Permission denied: '\\\\Performance_across_K.png'"
     ]
    },
    {
     "data": {
      "text/plain": "<Figure size 432x288 with 1 Axes>",
      "image/png": "[encoded data removed]"
     },
     "metadata": {
      "needs_background": "light"
     },
     "output_type": "display_data"
    }
   ],
   "source": [
    "t0 = time.time()\n",
    "np.random.seed(100)\n",
    "gap_list = []\n",
    "ress = []\n",
    "\n",
    "N = 8\n",
    "agent_num = 100\n",
    "search_iteration = 100\n",
    "landscape_repeat = 5\n",
    "K_list = [0, 2, 4, 6]\n",
    "performance_across_para = []\n",
    "for K in K_list:  # key parameter for complexity\n",
    "    performance_one_para = []\n",
    "    agents_performance = []\n",
    "    for i in range(landscape_repeat):  # landscape repetitions\n",
    "        landscape = LandScape(N, K, None, None)\n",
    "        landscape.initialize(norm=True)\n",
    "        crowd = []\n",
    "        for _ in range(agent_num):\n",
    "            agent = Agent(N, landscape)\n",
    "            crowd.append(agent)\n",
    "        for agent in crowd:  # agent repetitions\n",
    "            agent_performance = []\n",
    "            for _ in range(search_iteration):\n",
    "                agent.search()\n",
    "                agent_performance.append(agent.fitness)\n",
    "            agents_performance.append(agent_performance)\n",
    "\n",
    "    for period in range(search_iteration):\n",
    "        temp = [agent_performance[period] for agent_performance in agents_performance]\n",
    "        performance_one_para.append(sum(temp) / len(temp))\n",
    "    performance_across_para.append(performance_one_para)\n",
    "\n",
    "x = range(search_iteration)\n",
    "for index, K in enumerate(K_list):\n",
    "    plt.plot(x, performance_across_para[index], label=\"K={0}\".format(K))\n",
    "plt.xlabel('Time', fontweight='bold', fontsize=10)\n",
    "plt.ylabel('Performance', fontweight='bold', fontsize=10)\n",
    "# plt.xticks(x)\n",
    "plt.legend()\n",
    "plt.savefig(\"\\Performance_across_K.png\", transparent=False, dpi=200)\n",
    "t1 = time.time()\n",
    "print(time.strftime(\"%H:%M:%S\", time.gmtime(t1-t0)))"
   ]
  },
  {
   "cell_type": "code",
   "execution_count": 34,
   "id": "8a0e5771",
   "metadata": {},
   "outputs": [
    {
     "data": {
      "text/plain": [
       "<matplotlib.legend.Legend at 0x1ee6003fa90>"
      ]
     },
     "execution_count": 34,
     "metadata": {},
     "output_type": "execute_result"
    },
    {
     "data": {
      "image/png": "[encoded data removed]",
      "text/plain": [
       "<Figure size 432x288 with 1 Axes>"
      ]
     },
     "metadata": {
      "needs_background": "light"
     },
     "output_type": "display_data"
    }
   ],
   "source": [
    "for k in range(4):\n",
    "    plt.plot(np.mean(np.array(ress[k]),axis=0), label=\"k=%d\"%(k*2))\n",
    "plt.legend()"
   ]
  },
  {
   "cell_type": "code",
   "execution_count": 10,
   "id": "8813d2f6",
   "metadata": {},
   "outputs": [
    {
     "data": {
      "text/plain": [
       "(20, 100)"
      ]
     },
     "execution_count": 10,
     "metadata": {},
     "output_type": "execute_result"
    }
   ],
   "source": [
    "np.array(ress[0])"
   ]
  },
  {
   "cell_type": "code",
   "execution_count": null,
   "id": "81ce1a4d",
   "metadata": {},
   "outputs": [],
   "source": []
  }
 ],
 "metadata": {
  "kernelspec": {
   "display_name": "Python 3",
   "language": "python",
   "name": "python3"
  },
  "language_info": {
   "codemirror_mode": {
    "name": "ipython",
    "version": 3
   },
   "file_extension": ".py",
   "mimetype": "text/x-python",
   "name": "python",
   "nbconvert_exporter": "python",
   "pygments_lexer": "ipython3",
   "version": "3.8.8"
  }
 },
 "nbformat": 4,
 "nbformat_minor": 5
}
